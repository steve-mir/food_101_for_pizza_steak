{
 "cells": [
  {
   "cell_type": "code",
   "execution_count": null,
   "metadata": {},
   "outputs": [],
   "source": [
    "# # Get the data\n",
    "# import zipfile\n",
    "# !wget https://storage.googleapis.com/ztm_tf_course/food_vision/pizza_steak.zip\n",
    "\n",
    "# # Unzip the download file\n",
    "# zip_ref = zipfile.ZipFile(\"pizza_steak.zip\")\n",
    "# zip_ref.extractall()\n",
    "# zip_ref.close()\n"
   ]
  },
  {
   "cell_type": "code",
   "execution_count": 1,
   "metadata": {},
   "outputs": [
    {
     "name": "stdout",
     "output_type": "stream",
     "text": [
      "\u001b[0m\u001b[01;34mtest\u001b[0m/  \u001b[01;34mtrain\u001b[0m/\n"
     ]
    }
   ],
   "source": [
    "ls pizza_steak\n"
   ]
  },
  {
   "cell_type": "code",
   "execution_count": 2,
   "metadata": {},
   "outputs": [
    {
     "name": "stdout",
     "output_type": "stream",
     "text": [
      "There are 2 directories and 0 images in 'pizza_steak'.\n",
      "There are 2 directories and 0 images in 'pizza_steak/test'.\n",
      "There are 0 directories and 250 images in 'pizza_steak/test/steak'.\n",
      "There are 0 directories and 250 images in 'pizza_steak/test/pizza'.\n",
      "There are 2 directories and 0 images in 'pizza_steak/train'.\n",
      "There are 0 directories and 750 images in 'pizza_steak/train/steak'.\n",
      "There are 0 directories and 750 images in 'pizza_steak/train/pizza'.\n"
     ]
    }
   ],
   "source": [
    "import os\n",
    "\n",
    "# walk throught pizza steak directory and list number  of files\n",
    "for dirpath, dirnames, filenames in os.walk(\"pizza_steak\"):\n",
    "    print(\n",
    "        f\"There are {len(dirnames)} directories and {len(filenames)} images in '{dirpath}'.\")\n"
   ]
  },
  {
   "cell_type": "code",
   "execution_count": 3,
   "metadata": {},
   "outputs": [
    {
     "name": "stdout",
     "output_type": "stream",
     "text": [
      "total 0\n",
      "drwxr-xr-x 1 stephen stephen  18 Dec 31 07:59 .\n",
      "drwxr-xr-x 1 stephen stephen 104 Dec 31 20:32 ..\n",
      "drwxr-xr-x 1 stephen stephen  20 Aug 20  2020 test\n",
      "drwxr-xr-x 1 stephen stephen  20 Aug 20  2020 train\n"
     ]
    }
   ],
   "source": [
    "!ls -la pizza_steak"
   ]
  },
  {
   "cell_type": "code",
   "execution_count": 4,
   "metadata": {},
   "outputs": [
    {
     "data": {
      "text/plain": [
       "(250, 750)"
      ]
     },
     "execution_count": 4,
     "metadata": {},
     "output_type": "execute_result"
    }
   ],
   "source": [
    "# Another way to find out how many images are in a folder\n",
    "num_steak_images_train = len(os.listdir('pizza_steak/train/steak'))\n",
    "num_steak_images_test = len(os.listdir('pizza_steak/test/steak'))\n",
    "\n",
    "num_steak_images_test, num_steak_images_train\n"
   ]
  },
  {
   "cell_type": "markdown",
   "metadata": {},
   "source": [
    "To visualize the images, first get the class names programmatically"
   ]
  },
  {
   "cell_type": "code",
   "execution_count": null,
   "metadata": {},
   "outputs": [],
   "source": []
  }
 ],
 "metadata": {
  "kernelspec": {
   "display_name": "Python 3",
   "language": "python",
   "name": "python3"
  },
  "language_info": {
   "codemirror_mode": {
    "name": "ipython",
    "version": 3
   },
   "file_extension": ".py",
   "mimetype": "text/x-python",
   "name": "python",
   "nbconvert_exporter": "python",
   "pygments_lexer": "ipython3",
   "version": "3.9.2"
  },
  "orig_nbformat": 4,
  "vscode": {
   "interpreter": {
    "hash": "e7370f93d1d0cde622a1f8e1c04877d8463912d04d973331ad4851f04de6915a"
   }
  }
 },
 "nbformat": 4,
 "nbformat_minor": 2
}
