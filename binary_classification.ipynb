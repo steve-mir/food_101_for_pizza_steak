{
 "cells": [
  {
   "cell_type": "code",
   "execution_count": null,
   "metadata": {},
   "outputs": [],
   "source": [
    "# # Get the data\n",
    "# import zipfile\n",
    "# !wget https://storage.googleapis.com/ztm_tf_course/food_vision/pizza_steak.zip\n",
    "\n",
    "# # Unzip the download file\n",
    "# zip_ref = zipfile.ZipFile(\"pizza_steak.zip\")\n",
    "# zip_ref.extractall()\n",
    "# zip_ref.close()\n"
   ]
  }
 ],
 "metadata": {
  "language_info": {
   "name": "python"
  },
  "orig_nbformat": 4
 },
 "nbformat": 4,
 "nbformat_minor": 2
}
